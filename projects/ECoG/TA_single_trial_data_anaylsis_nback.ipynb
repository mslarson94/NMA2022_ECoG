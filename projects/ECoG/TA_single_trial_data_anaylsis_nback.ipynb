{
  "cells": [
    {
      "cell_type": "markdown",
      "metadata": {
        "id": "view-in-github",
        "colab_type": "text"
      },
      "source": [
        "<a href=\"https://colab.research.google.com/github/mslarson94/NMA2022_ECoG/blob/experimental/projects/ECoG/TA_single_trial_data_anaylsis_nback.ipynb\" target=\"_parent\"><img src=\"https://colab.research.google.com/assets/colab-badge.svg\" alt=\"Open In Colab\"/></a>"
      ]
    },
    {
      "cell_type": "markdown",
      "metadata": {
        "execution": {},
        "id": "xpEYhSMOkNtE"
      },
      "source": [
        "## Loading of Miller ECoG data of the memory nback task\n",
        "\n",
        "includes some visualizations"
      ]
    },
    {
      "cell_type": "code",
      "execution_count": 1,
      "metadata": {
        "execution": {},
        "id": "60XxgInkkNtJ"
      },
      "outputs": [],
      "source": [
        "# @title Data retrieval\n",
        "import os, requests\n",
        "\n",
        "fname = 'memory_nback.npz'\n",
        "url = \"https://osf.io/xfc7e/download\"\n",
        "\n",
        "if not os.path.isfile(fname):\n",
        "  try:\n",
        "    r = requests.get(url)\n",
        "  except requests.ConnectionError:\n",
        "    print(\"!!! Failed to download data !!!\")\n",
        "  else:\n",
        "    if r.status_code != requests.codes.ok:\n",
        "      print(\"!!! Failed to download data !!!\")\n",
        "    else:\n",
        "      with open(fname, \"wb\") as fid:\n",
        "        fid.write(r.content)"
      ]
    },
    {
      "cell_type": "code",
      "execution_count": 2,
      "metadata": {
        "execution": {},
        "id": "HU5PBBdekNtM",
        "outputId": "818f4de4-42eb-4358-8d70-6c12537372e3",
        "colab": {
          "base_uri": "https://localhost:8080/"
        }
      },
      "outputs": [
        {
          "output_type": "stream",
          "name": "stdout",
          "text": [
            "\u001b[K     |████████████████████████████████| 9.6 MB 5.6 MB/s \n",
            "\u001b[K     |████████████████████████████████| 13.3 MB 8.7 MB/s \n",
            "\u001b[K     |████████████████████████████████| 3.2 MB 47.7 MB/s \n",
            "\u001b[?25h  Building wheel for cognitiveatlas (setup.py) ... \u001b[?25l\u001b[?25hdone\n",
            "\u001b[K     |████████████████████████████████| 86 kB 3.8 MB/s \n",
            "\u001b[K     |████████████████████████████████| 179 kB 39.0 MB/s \n",
            "\u001b[?25h"
          ]
        }
      ],
      "source": [
        "# @title Install packages (`nilearn`, `nimare`, `duecredit`), import `matplotlib` and set defaults\n",
        "# install packages to visualize brains and electrode locations\n",
        "!pip install nilearn --quiet\n",
        "!pip install nimare --quiet\n",
        "!pip install duecredit --quiet\n",
        "\n",
        "from matplotlib import rcParams\n",
        "from matplotlib import pyplot as plt\n",
        "\n",
        "rcParams['figure.figsize'] = [20, 4]\n",
        "rcParams['font.size'] = 15\n",
        "rcParams['axes.spines.top'] = False\n",
        "rcParams['axes.spines.right'] = False\n",
        "rcParams['figure.autolayout'] = True"
      ]
    },
    {
      "cell_type": "code",
      "execution_count": 3,
      "metadata": {
        "execution": {},
        "id": "CEwKoW_rkNtN"
      },
      "outputs": [],
      "source": [
        "# @title Data loading\n",
        "import numpy as np\n",
        "\n",
        "alldat = np.load(fname, allow_pickle=True)['dat']\n",
        "\n",
        "# # Select just one of the recordings here. This is subject 1, block 1.\n",
        "# dat = alldat[1][1]\n",
        "\n",
        "# print(dat.keys())"
      ]
    },
    {
      "cell_type": "markdown",
      "metadata": {
        "execution": {},
        "id": "oGy1xnwikNtP"
      },
      "source": [
        "---\n",
        "# Dataset info\n",
        "\n",
        "This is one of multiple ECoG datasets from Miller 2019, recorded in clinical settings with a variety of tasks. Raw data here:\n",
        "\n",
        "https://exhibits.stanford.edu/data/catalog/zk881ps0522\n",
        "\n",
        "`dat` contain 3 sessions from 3 subjects, and was not yet used in a publication, so it's fresh data for you to analyze! The following references using other datasets may be useful for the memory n-back task: \n",
        "\n",
        "- Brouwer, Anne-Marie, et al. \"Estimating workload using EEG spectral power and ERPs in the n-back task.\" Journal of Neural Engineering 9.4 (2012): 045008. doi: [10.1088/1741-2560/9/4/045008](https://doi.org/10.1088/1741-2560/9/4/045008)\n",
        "\n",
        "- Grissmann, Sebastian, et al. \"Electroencephalography based analysis of working memory load and affective valence in an n-back task with emotional stimuli.\" Frontiers in Human Neuroscience 11 (2017): 616. doi: [10.3389/fnhum.2017.00616](https://doi.org/10.3389/fnhum.2017.00616)\n",
        "\n",
        "Each subject's data is divided into 5 sessions: fixation, exp1, exp2, exp3, fixation, which are consecutive blocks in the data structure (i.e. `alldat[0][0]`, `alldat[0][1]`, ..., `alldat[0][4]` for subject 0). Exp1 is a \"0-back\" memory experiment, where the subjects have to identify the picture of one of the houses (stimid = 10), which they have memorized at the beginning of the stimulus block. Exp2 is a 1-back memory experiment, where the participants have to respond to images of repeated houses. Finally, exp3 is 2-back where participants respond to pictures of houses that are repeated after another intervening random picture. This task was hard for these participants and most of them did not really respond at all, but the data can still be used to ask questions about overall shifts of neural activity in a hard task when the subjects feel overwhelmed by the memory requirements.\n",
        "\n",
        "Note that for the third/last subject, no response data was collected, so only the first two subjects can be analyzed for their correct / incorrect trials.   \n",
        "\n",
        "Sample rate is always 1000Hz, and the ECoG data has been notch-filtered at 60, 120, 180, 240 and 250Hz, followed by z-scoring across the entire recording and conversion to float16 to minimize size. \n",
        "\n",
        "Variables for each block within each subject: \n",
        "* `dat['V']`: continuous voltage data (time by channels)\n",
        "* `dat['expinfo']`: experiment type for this block\n",
        "* `dat['srate']`: sampling rate for voltage data, always 1000Hz\n",
        "* `dat['t_on']`: time of stimulus onset in data samples\n",
        "* `dat['t_off']`: time of stimulus offset, usually 600 samples after `t_on`\n",
        "* `dat['stim_id`]: identity of house stimulus from 1 to 40. Stimulus 10 was the target in the 0-back task.  \n",
        "* `dat['target']`: 0 or 1, indicates if this stimulus requires a response\n",
        "* `dat['response']`: 0 or 1, indicates if the subject actually made a response\n",
        "* `dat['rt']`: reaction time for trials with a response in voltage data samples (1000Hz). \n",
        "* `dat['locs']`: 3D locations of the electrodes on the cortical surface"
      ]
    },
    {
      "cell_type": "code",
      "source": [
        "dat['locs'][27]"
      ],
      "metadata": {
        "id": "TeRQBFlRkyc9",
        "outputId": "f1353eb3-5ab6-4575-b7fd-f48cd9372f17",
        "colab": {
          "base_uri": "https://localhost:8080/",
          "height": 165
        }
      },
      "execution_count": null,
      "outputs": [
        {
          "output_type": "error",
          "ename": "NameError",
          "evalue": "ignored",
          "traceback": [
            "\u001b[0;31m---------------------------------------------------------------------------\u001b[0m",
            "\u001b[0;31mNameError\u001b[0m                                 Traceback (most recent call last)",
            "\u001b[0;32m<ipython-input-4-f3d5662220d1>\u001b[0m in \u001b[0;36m<module>\u001b[0;34m()\u001b[0m\n\u001b[0;32m----> 1\u001b[0;31m \u001b[0mdat\u001b[0m\u001b[0;34m[\u001b[0m\u001b[0;34m'locs'\u001b[0m\u001b[0;34m]\u001b[0m\u001b[0;34m[\u001b[0m\u001b[0;36m27\u001b[0m\u001b[0;34m]\u001b[0m\u001b[0;34m\u001b[0m\u001b[0;34m\u001b[0m\u001b[0m\n\u001b[0m",
            "\u001b[0;31mNameError\u001b[0m: name 'dat' is not defined"
          ]
        }
      ]
    },
    {
      "cell_type": "code",
      "source": [
        "\n",
        "def get_voltage_patient_expirement_data(data, patient, experiment,freq_range):\n",
        "    # compute spectral power above 50Hz and low-pass below 10Hz\n",
        "  # power is always positive, so we normalize it by its average\n",
        "  from scipy import signal\n",
        "  dat=data[patient][experiment]\n",
        "  V = dat['V'].astype('float32') # always convert the voltage data to float32!\n",
        "\n",
        "  # high-pass filter above 50 Hz\n",
        "  b, a = signal.butter(3, [freq_range[1]], btype='high', fs=1000)\n",
        "  V = signal.filtfilt(b, a, V, 0)\n",
        "\n",
        "  b, a = signal.butter(3, [freq_range[0]], btype='low', fs=1000)\n",
        "  V = signal.filtfilt(b, a, V, 0)\n",
        "\n",
        "  # compute smooth envelope of this signal = approx power\n",
        "  V = np.abs(V)**2\n",
        "  b, a = signal.butter(3, [freq_range[0]], btype='low', fs=1000)\n",
        "  V = signal.filtfilt(b, a, V, 0)\n",
        "\n",
        "  # normalize each channel so its mean power is 1\n",
        "  V = V/V.mean(0)\n",
        "  return V, dat\n",
        "\n",
        "\n",
        "\n",
        "\n",
        "#should I get voltage "
      ],
      "metadata": {
        "id": "K03lmSW67QAy"
      },
      "execution_count": 4,
      "outputs": []
    },
    {
      "cell_type": "code",
      "source": [
        "np.diff(dat['t_on'])[0]-(dat['t_off']-dat['t_on'])[0]"
      ],
      "metadata": {
        "id": "xtiMbVO-IkS8",
        "outputId": "a820704c-ccdf-4285-d8c5-6a594ceac68f",
        "colab": {
          "base_uri": "https://localhost:8080/"
        }
      },
      "execution_count": null,
      "outputs": [
        {
          "output_type": "execute_result",
          "data": {
            "text/plain": [
              "1600"
            ]
          },
          "metadata": {},
          "execution_count": 11
        }
      ]
    },
    {
      "cell_type": "code",
      "source": [
        "store=[]\n",
        "other_store=[]\n",
        "BA_list=[6,7,8,9,10,32,40,45,46,47]\n",
        "BA_chan_list=[None] * len(BA_list)\n",
        "Lobe_chan_list=[None] *2*len(BA_list)\n",
        "k=0\n",
        "kk=0\n",
        "for j in BA_list:\n",
        "  print('Brodmann Area '+str(j))\n",
        "  for i in range(63):\n",
        "    if dat['Brodmann_Area'][i]=='Brodmann area '+str(j):\n",
        "      store.append(i)\n",
        "  BA_chan_list[k]=store\n",
        "  for idx in ['Frontal Lobe', 'Parietal Lobe']:\n",
        "    for jj in BA_chan_list[k]:\n",
        "      if dat['lobe'][jj]==idx:\n",
        "        other_store.append(jj)\n",
        "    Lobe_chan_list[kk]=other_store\n",
        "    other_store=[]\n",
        "    kk+=1 \n",
        "\n",
        "  store=[]\n",
        "  other_store=[]\n",
        "  k+=1\n",
        "\n",
        "Frontal=Lobe_chan_list[:len(BA_list)]\n",
        "Parietal=Lobe_chan_list[len(BA_list):]\n",
        "print('Frontal Lobe List is ',Frontal)\n",
        "print('Parietal Lobe List is',Parietal)"
      ],
      "metadata": {
        "id": "pV0AOq7sG1y3",
        "outputId": "2f15e180-49d5-49b6-a32e-d7c7f87ee6c6",
        "colab": {
          "base_uri": "https://localhost:8080/"
        }
      },
      "execution_count": 81,
      "outputs": [
        {
          "output_type": "stream",
          "name": "stdout",
          "text": [
            "Brodmann Area 6\n",
            "Brodmann Area 7\n",
            "Brodmann Area 8\n",
            "Brodmann Area 9\n",
            "Brodmann Area 10\n",
            "Brodmann Area 32\n",
            "Brodmann Area 40\n",
            "Brodmann Area 45\n",
            "Brodmann Area 46\n",
            "Brodmann Area 47\n",
            "Frontal Lobe List is  [[20, 28, 36, 37, 44, 45, 51, 52, 53, 59, 60, 61], [], [], [], [43, 48, 49, 50, 56, 57, 58], [], [35, 40, 41, 42], [], [], []]\n",
            "Parietal Lobe List is [[], [], [], [22, 31, 39], [16, 17, 18, 26], [], [24, 25, 32, 33, 34], [], [0, 1, 8, 9, 10], []]\n"
          ]
        }
      ]
    },
    {
      "cell_type": "code",
      "source": [
        "\n",
        "\n",
        "BA_area_idx=0 \n",
        "for chan in Frontal[BA_area_idx]:\n",
        "  #chan=29\n",
        "  subject_number=0\n",
        "  experiment_number=1\n",
        "  f_range=[4,8]\n",
        "  V, dat=get_voltage_patient_expirement_data(alldat,subject_number,experiment_number,f_range)\n",
        "  print(dat['lobe'][chan])\n",
        "  print(dat['gyrus'][chan])\n",
        "  print(dat['hemisphere'][chan])\n",
        "  print(dat['Brodmann_Area'][chan])\n",
        "\n",
        "\n",
        "  # divide into trials and average\n",
        "  nt, nchan = V.shape\n",
        "  nstim = len(dat['t_on'])\n",
        "\n",
        "  # use a timerange from 500ms before to 1700ms after the stimulus onset\n",
        "  trange = np.arange(-500, 1700)\n",
        "  ts = dat['t_on'][:, np.newaxis] + trange\n",
        "  V_epochs = np.reshape(V[ts, :], (nstim, 2200, nchan))\n",
        "\n",
        "  V_onrp = (V_epochs[dat['target']==1])\n",
        "  V_ofrp = (V_epochs[dat['target']==0])\n",
        "  V_resp = (V_epochs[dat['response'] == 1])\n",
        "  V_base = (V_epochs[dat['response'] == 0])\n",
        "\n",
        "\n",
        "  plt.plot(V[:,chan])\n",
        "  plt.vlines(dat['t_on'],10, 13,colors='y')\n",
        "  plt.vlines(dat['t_on'][np.argwhere(dat['target']==1)],15,20,colors='r')\n",
        "  plt.vlines(dat['t_on'][np.argwhere(dat['response']==1)],25,30,colors='g')\n",
        "  plt.title(['Channel', chan, 'Subject,', subject_number,'Experiment', experiment_number, 'freq_range=', f_range])\n",
        "\n",
        "  plt.figure(figsize=(25, 25))\n",
        "  for j in range(100):\n",
        "    ax = plt.subplot(10, 10, j+1)\n",
        "\n",
        "    plt.plot(trange, V_epochs[j,: ,chan], lw=2)\n",
        "    #plt.plot(trange, V_ofrp[j,:,chan], lw=2)\n",
        "    if np.any(np.argwhere(dat['target']==1)==j):\n",
        "      plt.plot(-300,7,'r',marker='*')\n",
        "    if np.any(np.argwhere(dat['response']==1)==j):\n",
        "      plt.plot(-300,9,'g',marker='D')\n",
        "      plt.legend([dat['rt'][j]], loc='upper right',  title_fontsize='xx-small') #legend has response times in it\n",
        "\n",
        "    plt.title('trial%d'%j)\n",
        "    plt.yticks([])\n",
        "    plt.ylim([0,10])\n",
        "  plt.show()"
      ],
      "metadata": {
        "colab": {
          "base_uri": "https://localhost:8080/",
          "height": 380
        },
        "id": "AdzxfBABITQf",
        "outputId": "0fed1c8e-68f7-485d-b82a-e9768a000ddd"
      },
      "execution_count": 84,
      "outputs": [
        {
          "output_type": "error",
          "ename": "KeyboardInterrupt",
          "evalue": "ignored",
          "traceback": [
            "\u001b[0;31m---------------------------------------------------------------------------\u001b[0m",
            "\u001b[0;31mKeyboardInterrupt\u001b[0m                         Traceback (most recent call last)",
            "\u001b[0;32m<ipython-input-84-97dc2360a33b>\u001b[0m in \u001b[0;36m<module>\u001b[0;34m()\u001b[0m\n\u001b[1;32m      7\u001b[0m   \u001b[0mexperiment_number\u001b[0m\u001b[0;34m=\u001b[0m\u001b[0;36m1\u001b[0m\u001b[0;34m\u001b[0m\u001b[0;34m\u001b[0m\u001b[0m\n\u001b[1;32m      8\u001b[0m   \u001b[0mf_range\u001b[0m\u001b[0;34m=\u001b[0m\u001b[0;34m[\u001b[0m\u001b[0;36m4\u001b[0m\u001b[0;34m,\u001b[0m\u001b[0;36m8\u001b[0m\u001b[0;34m]\u001b[0m\u001b[0;34m\u001b[0m\u001b[0;34m\u001b[0m\u001b[0m\n\u001b[0;32m----> 9\u001b[0;31m   \u001b[0mV\u001b[0m\u001b[0;34m,\u001b[0m \u001b[0mdat\u001b[0m\u001b[0;34m=\u001b[0m\u001b[0mget_voltage_patient_expirement_data\u001b[0m\u001b[0;34m(\u001b[0m\u001b[0malldat\u001b[0m\u001b[0;34m,\u001b[0m\u001b[0msubject_number\u001b[0m\u001b[0;34m,\u001b[0m\u001b[0mexperiment_number\u001b[0m\u001b[0;34m,\u001b[0m\u001b[0mf_range\u001b[0m\u001b[0;34m)\u001b[0m\u001b[0;34m\u001b[0m\u001b[0;34m\u001b[0m\u001b[0m\n\u001b[0m\u001b[1;32m     10\u001b[0m   \u001b[0mprint\u001b[0m\u001b[0;34m(\u001b[0m\u001b[0mdat\u001b[0m\u001b[0;34m[\u001b[0m\u001b[0;34m'lobe'\u001b[0m\u001b[0;34m]\u001b[0m\u001b[0;34m[\u001b[0m\u001b[0mchan\u001b[0m\u001b[0;34m]\u001b[0m\u001b[0;34m)\u001b[0m\u001b[0;34m\u001b[0m\u001b[0;34m\u001b[0m\u001b[0m\n\u001b[1;32m     11\u001b[0m   \u001b[0mprint\u001b[0m\u001b[0;34m(\u001b[0m\u001b[0mdat\u001b[0m\u001b[0;34m[\u001b[0m\u001b[0;34m'gyrus'\u001b[0m\u001b[0;34m]\u001b[0m\u001b[0;34m[\u001b[0m\u001b[0mchan\u001b[0m\u001b[0;34m]\u001b[0m\u001b[0;34m)\u001b[0m\u001b[0;34m\u001b[0m\u001b[0;34m\u001b[0m\u001b[0m\n",
            "\u001b[0;32m<ipython-input-4-56089bdb65b0>\u001b[0m in \u001b[0;36mget_voltage_patient_expirement_data\u001b[0;34m(data, patient, experiment, freq_range)\u001b[0m\n\u001b[1;32m     17\u001b[0m   \u001b[0mV\u001b[0m \u001b[0;34m=\u001b[0m \u001b[0mnp\u001b[0m\u001b[0;34m.\u001b[0m\u001b[0mabs\u001b[0m\u001b[0;34m(\u001b[0m\u001b[0mV\u001b[0m\u001b[0;34m)\u001b[0m\u001b[0;34m**\u001b[0m\u001b[0;36m2\u001b[0m\u001b[0;34m\u001b[0m\u001b[0;34m\u001b[0m\u001b[0m\n\u001b[1;32m     18\u001b[0m   \u001b[0mb\u001b[0m\u001b[0;34m,\u001b[0m \u001b[0ma\u001b[0m \u001b[0;34m=\u001b[0m \u001b[0msignal\u001b[0m\u001b[0;34m.\u001b[0m\u001b[0mbutter\u001b[0m\u001b[0;34m(\u001b[0m\u001b[0;36m3\u001b[0m\u001b[0;34m,\u001b[0m \u001b[0;34m[\u001b[0m\u001b[0mfreq_range\u001b[0m\u001b[0;34m[\u001b[0m\u001b[0;36m0\u001b[0m\u001b[0;34m]\u001b[0m\u001b[0;34m]\u001b[0m\u001b[0;34m,\u001b[0m \u001b[0mbtype\u001b[0m\u001b[0;34m=\u001b[0m\u001b[0;34m'low'\u001b[0m\u001b[0;34m,\u001b[0m \u001b[0mfs\u001b[0m\u001b[0;34m=\u001b[0m\u001b[0;36m1000\u001b[0m\u001b[0;34m)\u001b[0m\u001b[0;34m\u001b[0m\u001b[0;34m\u001b[0m\u001b[0m\n\u001b[0;32m---> 19\u001b[0;31m   \u001b[0mV\u001b[0m \u001b[0;34m=\u001b[0m \u001b[0msignal\u001b[0m\u001b[0;34m.\u001b[0m\u001b[0mfiltfilt\u001b[0m\u001b[0;34m(\u001b[0m\u001b[0mb\u001b[0m\u001b[0;34m,\u001b[0m \u001b[0ma\u001b[0m\u001b[0;34m,\u001b[0m \u001b[0mV\u001b[0m\u001b[0;34m,\u001b[0m \u001b[0;36m0\u001b[0m\u001b[0;34m)\u001b[0m\u001b[0;34m\u001b[0m\u001b[0;34m\u001b[0m\u001b[0m\n\u001b[0m\u001b[1;32m     20\u001b[0m \u001b[0;34m\u001b[0m\u001b[0m\n\u001b[1;32m     21\u001b[0m   \u001b[0;31m# normalize each channel so its mean power is 1\u001b[0m\u001b[0;34m\u001b[0m\u001b[0;34m\u001b[0m\u001b[0;34m\u001b[0m\u001b[0m\n",
            "\u001b[0;32m/usr/local/lib/python3.7/dist-packages/scipy/signal/signaltools.py\u001b[0m in \u001b[0;36mfiltfilt\u001b[0;34m(b, a, x, axis, padtype, padlen, method, irlen)\u001b[0m\n\u001b[1;32m   4067\u001b[0m \u001b[0;34m\u001b[0m\u001b[0m\n\u001b[1;32m   4068\u001b[0m     \u001b[0;31m# Forward filter.\u001b[0m\u001b[0;34m\u001b[0m\u001b[0;34m\u001b[0m\u001b[0;34m\u001b[0m\u001b[0m\n\u001b[0;32m-> 4069\u001b[0;31m     \u001b[0;34m(\u001b[0m\u001b[0my\u001b[0m\u001b[0;34m,\u001b[0m \u001b[0mzf\u001b[0m\u001b[0;34m)\u001b[0m \u001b[0;34m=\u001b[0m \u001b[0mlfilter\u001b[0m\u001b[0;34m(\u001b[0m\u001b[0mb\u001b[0m\u001b[0;34m,\u001b[0m \u001b[0ma\u001b[0m\u001b[0;34m,\u001b[0m \u001b[0mext\u001b[0m\u001b[0;34m,\u001b[0m \u001b[0maxis\u001b[0m\u001b[0;34m=\u001b[0m\u001b[0maxis\u001b[0m\u001b[0;34m,\u001b[0m \u001b[0mzi\u001b[0m\u001b[0;34m=\u001b[0m\u001b[0mzi\u001b[0m \u001b[0;34m*\u001b[0m \u001b[0mx0\u001b[0m\u001b[0;34m)\u001b[0m\u001b[0;34m\u001b[0m\u001b[0;34m\u001b[0m\u001b[0m\n\u001b[0m\u001b[1;32m   4070\u001b[0m \u001b[0;34m\u001b[0m\u001b[0m\n\u001b[1;32m   4071\u001b[0m     \u001b[0;31m# Backward filter.\u001b[0m\u001b[0;34m\u001b[0m\u001b[0;34m\u001b[0m\u001b[0;34m\u001b[0m\u001b[0m\n",
            "\u001b[0;32m/usr/local/lib/python3.7/dist-packages/scipy/signal/signaltools.py\u001b[0m in \u001b[0;36mlfilter\u001b[0;34m(b, a, x, axis, zi)\u001b[0m\n\u001b[1;32m   2055\u001b[0m             \u001b[0;32mreturn\u001b[0m \u001b[0msigtools\u001b[0m\u001b[0;34m.\u001b[0m\u001b[0m_linear_filter\u001b[0m\u001b[0;34m(\u001b[0m\u001b[0mb\u001b[0m\u001b[0;34m,\u001b[0m \u001b[0ma\u001b[0m\u001b[0;34m,\u001b[0m \u001b[0mx\u001b[0m\u001b[0;34m,\u001b[0m \u001b[0maxis\u001b[0m\u001b[0;34m)\u001b[0m\u001b[0;34m\u001b[0m\u001b[0;34m\u001b[0m\u001b[0m\n\u001b[1;32m   2056\u001b[0m         \u001b[0;32melse\u001b[0m\u001b[0;34m:\u001b[0m\u001b[0;34m\u001b[0m\u001b[0;34m\u001b[0m\u001b[0m\n\u001b[0;32m-> 2057\u001b[0;31m             \u001b[0;32mreturn\u001b[0m \u001b[0msigtools\u001b[0m\u001b[0;34m.\u001b[0m\u001b[0m_linear_filter\u001b[0m\u001b[0;34m(\u001b[0m\u001b[0mb\u001b[0m\u001b[0;34m,\u001b[0m \u001b[0ma\u001b[0m\u001b[0;34m,\u001b[0m \u001b[0mx\u001b[0m\u001b[0;34m,\u001b[0m \u001b[0maxis\u001b[0m\u001b[0;34m,\u001b[0m \u001b[0mzi\u001b[0m\u001b[0;34m)\u001b[0m\u001b[0;34m\u001b[0m\u001b[0;34m\u001b[0m\u001b[0m\n\u001b[0m\u001b[1;32m   2058\u001b[0m \u001b[0;34m\u001b[0m\u001b[0m\n\u001b[1;32m   2059\u001b[0m \u001b[0;34m\u001b[0m\u001b[0m\n",
            "\u001b[0;31mKeyboardInterrupt\u001b[0m: "
          ]
        }
      ]
    },
    {
      "cell_type": "code",
      "source": [
        "# this electrode has a more transient response\n",
        "plt.subplot(1, 3, 1)\n",
        "plt.imshow(V_epochs[dat['response']==1, :,chan].astype('float32'),\n",
        "           aspect='auto')\n",
        "plt.colorbar()\n",
        "plt.show()"
      ],
      "metadata": {
        "id": "72m8cGR1j9fh",
        "outputId": "1783e451-cbe0-478a-d54d-a0673a595fc6",
        "colab": {
          "base_uri": "https://localhost:8080/",
          "height": 286
        }
      },
      "execution_count": null,
      "outputs": [
        {
          "output_type": "display_data",
          "data": {
            "text/plain": [
              "<Figure size 1440x288 with 2 Axes>"
            ],
            "image/png": "[encoded data removed]"
          },
          "metadata": {
            "needs_background": "light"
          }
        }
      ]
    },
    {
      "cell_type": "code",
      "source": [
        "print(dat['lobe'][chan])\n",
        "print(dat['gyrus'][chan])\n",
        "print(dat['hemisphere'][chan])\n",
        "print(dat['Brodmann_Area'][chan])\n"
      ],
      "metadata": {
        "id": "GIIboJxzlbq6",
        "outputId": "ff6b34ea-0865-4c9e-bd7f-b9c821eab35b",
        "colab": {
          "base_uri": "https://localhost:8080/"
        }
      },
      "execution_count": 7,
      "outputs": [
        {
          "output_type": "stream",
          "name": "stdout",
          "text": [
            "Frontal Lobe\n",
            "Precentral Gyrus\n",
            "Right Cerebrum\n",
            "Brodmann area 4\n"
          ]
        }
      ]
    },
    {
      "cell_type": "code",
      "source": [
        "store=[]\n",
        "other_store=[]\n",
        "BA_list=[6,7,8,9,10,32,40,45,46,47]\n",
        "BA_chan_list=[None] * len(BA_list)\n",
        "Lobe_chan_list=[None] *2*len(BA_list)\n",
        "k=0\n",
        "kk=0\n",
        "for j in BA_list:\n",
        "  print('Brodmann Area '+str(j))\n",
        "  for i in range(63):\n",
        "    if dat['Brodmann_Area'][i]=='Brodmann area '+str(j):\n",
        "      store.append(i)\n",
        "  BA_chan_list[k]=store\n",
        "  for idx in ['Frontal Lobe', 'Parietal Lobe']:\n",
        "    for jj in BA_chan_list[k]:\n",
        "      if dat['lobe'][jj]==idx:\n",
        "        other_store.append(jj)\n",
        "    Lobe_chan_list[kk]=other_store\n",
        "    other_store=[]\n",
        "    kk+=1 \n",
        "\n",
        "  store=[]\n",
        "  other_store=[]\n",
        "  k+=1\n",
        "\n",
        "\n",
        "Frontal=Lobe_chan_list[:len(BA_list)]\n",
        "Parietal=Lobe_chan_list[len(BA_list):]"
      ],
      "metadata": {
        "id": "ILU1WrzUKs_r",
        "outputId": "909d8d0d-bf5a-4c7b-b088-7cc5033fa7c2",
        "colab": {
          "base_uri": "https://localhost:8080/"
        }
      },
      "execution_count": 76,
      "outputs": [
        {
          "output_type": "stream",
          "name": "stdout",
          "text": [
            "Brodmann Area 6\n",
            "Brodmann Area 7\n",
            "Brodmann Area 8\n",
            "Brodmann Area 9\n",
            "Brodmann Area 10\n",
            "Brodmann Area 32\n",
            "Brodmann Area 40\n",
            "Brodmann Area 45\n",
            "Brodmann Area 46\n",
            "Brodmann Area 47\n"
          ]
        }
      ]
    },
    {
      "cell_type": "code",
      "source": [
        ""
      ],
      "metadata": {
        "id": "hwB0TvWxQDQX",
        "outputId": "1626760a-1e1e-4584-878c-368ef5f238af",
        "colab": {
          "base_uri": "https://localhost:8080/"
        }
      },
      "execution_count": 78,
      "outputs": [
        {
          "output_type": "execute_result",
          "data": {
            "text/plain": [
              "[]"
            ]
          },
          "metadata": {},
          "execution_count": 78
        }
      ]
    },
    {
      "cell_type": "code",
      "source": [
        "len(Lobe_chan_list)"
      ],
      "metadata": {
        "id": "pTnUreQeKdm9",
        "outputId": "b02ecde3-062c-40b2-e601-9c2022871820",
        "colab": {
          "base_uri": "https://localhost:8080/"
        }
      },
      "execution_count": 72,
      "outputs": [
        {
          "output_type": "execute_result",
          "data": {
            "text/plain": [
              "20"
            ]
          },
          "metadata": {},
          "execution_count": 72
        }
      ]
    },
    {
      "cell_type": "code",
      "source": [
        "dat['lobe'][1]==Frontal Lobe"
      ],
      "metadata": {
        "id": "-EbweMUWFxj6",
        "outputId": "c7e739d2-6b7c-4250-f37b-dbe0d10bdfe7",
        "colab": {
          "base_uri": "https://localhost:8080/",
          "height": 130
        }
      },
      "execution_count": 61,
      "outputs": [
        {
          "output_type": "error",
          "ename": "SyntaxError",
          "evalue": "ignored",
          "traceback": [
            "\u001b[0;36m  File \u001b[0;32m\"<ipython-input-61-ef401174fcfa>\"\u001b[0;36m, line \u001b[0;32m1\u001b[0m\n\u001b[0;31m    dat['lobe'][1]==Frontal Lobe\u001b[0m\n\u001b[0m                               ^\u001b[0m\n\u001b[0;31mSyntaxError\u001b[0m\u001b[0;31m:\u001b[0m invalid syntax\n"
          ]
        }
      ]
    },
    {
      "cell_type": "code",
      "source": [
        "idx"
      ],
      "metadata": {
        "id": "I962nC_BLg_y",
        "outputId": "3517c22a-ac6c-47f6-e084-3e5f573ffaea",
        "colab": {
          "base_uri": "https://localhost:8080/",
          "height": 35
        }
      },
      "execution_count": 63,
      "outputs": [
        {
          "output_type": "execute_result",
          "data": {
            "text/plain": [
              "'Parietal Lobe'"
            ],
            "application/vnd.google.colaboratory.intrinsic+json": {
              "type": "string"
            }
          },
          "metadata": {},
          "execution_count": 63
        }
      ]
    },
    {
      "cell_type": "code",
      "source": [
        "print(BA_chan_list)"
      ],
      "metadata": {
        "id": "MPLlJka_Daxk",
        "outputId": "4b5a47cb-6a10-4b80-f55c-6720677180e0",
        "colab": {
          "base_uri": "https://localhost:8080/"
        }
      },
      "execution_count": 51,
      "outputs": [
        {
          "output_type": "stream",
          "name": "stdout",
          "text": [
            "[[20, 28, 36, 37, 44, 45, 51, 52, 53, 59, 60, 61], [], [43, 48, 49, 50, 56, 57, 58], [35, 40, 41, 42], [], [], [22, 31, 39], [16, 17, 18, 26], [24, 25, 32, 33, 34], [0, 1, 8, 9, 10]]\n"
          ]
        }
      ]
    },
    {
      "cell_type": "code",
      "source": [
        "for i in range(63):\n",
        "  print(dat['Brodmann_Area'][i]=='Brodmann area 47')"
      ],
      "metadata": {
        "id": "baZAEN8TBSB7",
        "outputId": "3d686565-dd66-4be3-a83a-9cccfaa082d8",
        "colab": {
          "base_uri": "https://localhost:8080/"
        }
      },
      "execution_count": 36,
      "outputs": [
        {
          "output_type": "stream",
          "name": "stdout",
          "text": [
            "True\n",
            "True\n",
            "False\n",
            "False\n",
            "False\n",
            "False\n",
            "False\n",
            "False\n",
            "True\n",
            "True\n",
            "True\n",
            "False\n",
            "False\n",
            "False\n",
            "False\n",
            "False\n",
            "False\n",
            "False\n",
            "False\n",
            "False\n",
            "False\n",
            "False\n",
            "False\n",
            "False\n",
            "False\n",
            "False\n",
            "False\n",
            "False\n",
            "False\n",
            "False\n",
            "False\n",
            "False\n",
            "False\n",
            "False\n",
            "False\n",
            "False\n",
            "False\n",
            "False\n",
            "False\n",
            "False\n",
            "False\n",
            "False\n",
            "False\n",
            "False\n",
            "False\n",
            "False\n",
            "False\n",
            "False\n",
            "False\n",
            "False\n",
            "False\n",
            "False\n",
            "False\n",
            "False\n",
            "False\n",
            "False\n",
            "False\n",
            "False\n",
            "False\n",
            "False\n",
            "False\n",
            "False\n",
            "False\n"
          ]
        }
      ]
    },
    {
      "cell_type": "code",
      "source": [
        "'Brodmann Area '+str(47)"
      ],
      "metadata": {
        "id": "2MyRCvztCJv0",
        "outputId": "010000d8-db99-4dce-92b1-1cdcda274b56",
        "colab": {
          "base_uri": "https://localhost:8080/",
          "height": 35
        }
      },
      "execution_count": 26,
      "outputs": [
        {
          "output_type": "execute_result",
          "data": {
            "text/plain": [
              "'Brodmann Area 47'"
            ],
            "application/vnd.google.colaboratory.intrinsic+json": {
              "type": "string"
            }
          },
          "metadata": {},
          "execution_count": 26
        }
      ]
    },
    {
      "cell_type": "code",
      "source": [
        "i=0\n",
        "j=1\n",
        "dat['Brodmann_Area'][i]==['Brodmann Area '+str(j)]"
      ],
      "metadata": {
        "id": "T1fe8xk85F_D",
        "outputId": "eeaf0dfc-e4f5-4975-c1d9-19e81212274a",
        "colab": {
          "base_uri": "https://localhost:8080/"
        }
      },
      "execution_count": 14,
      "outputs": [
        {
          "output_type": "execute_result",
          "data": {
            "text/plain": [
              "False"
            ]
          },
          "metadata": {},
          "execution_count": 14
        }
      ]
    },
    {
      "cell_type": "code",
      "source": [
        "np.unique(dat['lobe'])"
      ],
      "metadata": {
        "id": "DIDGxTt6Lhhl",
        "outputId": "ceaa2c0e-8c55-42e8-cee6-f1f91df14b07",
        "colab": {
          "base_uri": "https://localhost:8080/"
        }
      },
      "execution_count": 56,
      "outputs": [
        {
          "output_type": "execute_result",
          "data": {
            "text/plain": [
              "array(['Frontal Lobe', 'Parietal Lobe', 'Temporal Lobe'], dtype='<U13')"
            ]
          },
          "metadata": {},
          "execution_count": 56
        }
      ]
    },
    {
      "cell_type": "markdown",
      "source": [
        "BA 6-10, 32,40,45-47"
      ],
      "metadata": {
        "id": "1eW1Xl7WMmpm"
      }
    },
    {
      "cell_type": "code",
      "source": [
        "BA_list=['6','10','32','40','45','46','47']"
      ],
      "metadata": {
        "id": "Z_QMp6h8L6R9"
      },
      "execution_count": 9,
      "outputs": []
    },
    {
      "cell_type": "code",
      "source": [
        "dat['Brodmann_Area']"
      ],
      "metadata": {
        "id": "KkitIIiaO6xJ",
        "outputId": "085ec0f7-0236-4990-9dbe-c26e8e15ead7",
        "colab": {
          "base_uri": "https://localhost:8080/"
        }
      },
      "execution_count": 8,
      "outputs": [
        {
          "output_type": "execute_result",
          "data": {
            "text/plain": [
              "['Brodmann area 47',\n",
              " 'Brodmann area 47',\n",
              " 'Brodmann area 38',\n",
              " 'Brodmann area 38',\n",
              " 'Brodmann area 21',\n",
              " 'Brodmann area 21',\n",
              " 'Brodmann area 21',\n",
              " 'Brodmann area 21',\n",
              " 'Brodmann area 47',\n",
              " 'Brodmann area 47',\n",
              " 'Brodmann area 47',\n",
              " 'Brodmann area 22',\n",
              " 'Brodmann area 22',\n",
              " 'Brodmann area 22',\n",
              " 'Brodmann area 22',\n",
              " 'Brodmann area 22',\n",
              " 'Brodmann area 45',\n",
              " 'Brodmann area 45',\n",
              " 'Brodmann area 45',\n",
              " 'Brodmann area 44',\n",
              " 'Brodmann area 6',\n",
              " 'Brodmann area 43',\n",
              " 'Brodmann area 40',\n",
              " 'Brodmann area 42',\n",
              " 'Brodmann area 46',\n",
              " 'Brodmann area 46',\n",
              " 'Brodmann area 45',\n",
              " 'Brodmann area 44',\n",
              " 'Brodmann area 6',\n",
              " 'Brodmann area 4',\n",
              " 'Brodmann area 43',\n",
              " 'Brodmann area 40',\n",
              " 'Brodmann area 46',\n",
              " 'Brodmann area 46',\n",
              " 'Brodmann area 46',\n",
              " 'Brodmann area 9',\n",
              " 'Brodmann area 6',\n",
              " 'Brodmann area 6',\n",
              " 'Brodmann area 3',\n",
              " 'Brodmann area 40',\n",
              " 'Brodmann area 9',\n",
              " 'Brodmann area 9',\n",
              " 'Brodmann area 9',\n",
              " 'Brodmann area 8',\n",
              " 'Brodmann area 6',\n",
              " 'Brodmann area 6',\n",
              " 'Brodmann area 3',\n",
              " 'Brodmann area 2',\n",
              " 'Brodmann area 8',\n",
              " 'Brodmann area 8',\n",
              " 'Brodmann area 8',\n",
              " 'Brodmann area 6',\n",
              " 'Brodmann area 6',\n",
              " 'Brodmann area 6',\n",
              " 'Brodmann area 3',\n",
              " 'Brodmann area 2',\n",
              " 'Brodmann area 8',\n",
              " 'Brodmann area 8',\n",
              " 'Brodmann area 8',\n",
              " 'Brodmann area 6',\n",
              " 'Brodmann area 6',\n",
              " 'Brodmann area 6',\n",
              " 'Brodmann area 4',\n",
              " 'Brodmann area 3']"
            ]
          },
          "metadata": {},
          "execution_count": 8
        }
      ]
    },
    {
      "cell_type": "code",
      "source": [
        "store=[]"
      ],
      "metadata": {
        "id": "6Erk07peO8Gv"
      },
      "execution_count": null,
      "outputs": []
    }
  ],
  "metadata": {
    "colab": {
      "collapsed_sections": [],
      "name": "load_ECoG_memory_nback",
      "provenance": [],
      "toc_visible": true,
      "include_colab_link": true
    },
    "kernel": {
      "display_name": "Python 3",
      "language": "python",
      "name": "python3"
    },
    "kernelspec": {
      "display_name": "Python 3",
      "name": "python3"
    },
    "language_info": {
      "codemirror_mode": {
        "name": "ipython",
        "version": 3
      },
      "file_extension": ".py",
      "mimetype": "text/x-python",
      "name": "python",
      "nbconvert_exporter": "python",
      "pygments_lexer": "ipython3",
      "version": "3.7.13"
    }
  },
  "nbformat": 4,
  "nbformat_minor": 0
}