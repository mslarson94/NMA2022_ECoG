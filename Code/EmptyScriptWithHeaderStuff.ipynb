{
 "cells": [
  {
   "cell_type": "code",
   "execution_count": 1,
   "id": "a3e12f54",
   "metadata": {},
   "outputs": [],
   "source": [
    "## Grabbing data & initializing plotting parameters \n",
    "# @title Data retrieval\n",
    "import os, requests\n",
    "from HelperFunctions import grabData as gD\n",
    "\n",
    "alldat, rcParams = gD.grabData()"
   ]
  },
  {
   "cell_type": "code",
   "execution_count": 5,
   "id": "4e27f368",
   "metadata": {},
   "outputs": [
    {
     "name": "stdout",
     "output_type": "stream",
     "text": [
      "Directory  /Users/mairahmac/NMA2022_ECoG/NMA2022_ECoG/Code/Output  already exists\n"
     ]
    }
   ],
   "source": [
    "import pandas as pd\n",
    "from HelperFunctions import path_check\n",
    "## Checking that an Output subfolder path exists, if not, creates the folder\n",
    "cwd = os.getcwd()\n",
    "OutPath = os.path.join(cwd, 'Output')\n",
    "path_check.path_check(OutPath)"
   ]
  },
  {
   "cell_type": "code",
   "execution_count": 6,
   "id": "1fcb06d0",
   "metadata": {},
   "outputs": [],
   "source": [
    "#print(alldat[0][1])"
   ]
  }
 ],
 "metadata": {
  "kernelspec": {
   "display_name": "Python 3 (ipykernel)",
   "language": "python",
   "name": "python3"
  },
  "language_info": {
   "codemirror_mode": {
    "name": "ipython",
    "version": 3
   },
   "file_extension": ".py",
   "mimetype": "text/x-python",
   "name": "python",
   "nbconvert_exporter": "python",
   "pygments_lexer": "ipython3",
   "version": "3.9.12"
  },
  "toc-showtags": true
 },
 "nbformat": 4,
 "nbformat_minor": 5
}
