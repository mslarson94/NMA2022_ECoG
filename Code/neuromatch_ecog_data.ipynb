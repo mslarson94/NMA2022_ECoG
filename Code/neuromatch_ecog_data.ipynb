{
 "cells": [
  {
   "cell_type": "code",
   "execution_count": null,
   "id": "ff1931c5",
   "metadata": {},
   "outputs": [],
   "source": [
    "# @title Data retrieval\n",
    "import os, requests\n",
    "\n",
    "fname = 'memory_nback.npz'\n",
    "url = \"https://osf.io/xfc7e/download\"\n",
    "\n",
    "if not os.path.isfile(fname):\n",
    "  try:\n",
    "    r = requests.get(url)\n",
    "  except requests.ConnectionError:\n",
    "    print(\"!!! Failed to download data !!!\")\n",
    "  else:\n",
    "    if r.status_code != requests.codes.ok:\n",
    "      print(\"!!! Failed to download data !!!\")\n",
    "    else:\n",
    "      with open(fname, \"wb\") as fid:\n",
    "        fid.write(r.content)"
   ]
  },
  {
   "cell_type": "code",
   "execution_count": null,
   "id": "b6d843e4",
   "metadata": {},
   "outputs": [],
   "source": [
    "# @title Install packages (`nilearn`, `nimare`, `duecredit`), import `matplotlib` and set defaults\n",
    "# install packages to visualize brains and electrode locations\n",
    "!pip install nilearn --quiet\n",
    "!pip install nimare --quiet\n",
    "!pip install duecredit --quiet\n",
    "\n",
    "from matplotlib import rcParams\n",
    "from matplotlib import pyplot as plt\n",
    "\n",
    "rcParams['figure.figsize'] = [20, 4]\n",
    "rcParams['font.size'] = 15\n",
    "rcParams['axes.spines.top'] = False\n",
    "rcParams['axes.spines.right'] = False\n",
    "rcParams['figure.autolayout'] = True"
   ]
  },
  {
   "cell_type": "code",
   "execution_count": null,
   "id": "3b48d55f",
   "metadata": {},
   "outputs": [],
   "source": [
    "# @title Data loading\n",
    "import numpy as np\n",
    "\n",
    "alldat = np.load(fname, allow_pickle=True)['dat']\n",
    "\n",
    "# Select just one of the recordings here. This is subject 1, block 1.\n",
    "dat_11 = alldat[1][1]\n",
    "\n",
    "print(dat_11.keys())"
   ]
  },
  {
   "cell_type": "code",
   "execution_count": null,
   "id": "a1506dd0",
   "metadata": {},
   "outputs": [],
   "source": [
    "print(dat_11['expinfo'])"
   ]
  },
  {
   "cell_type": "code",
   "execution_count": null,
   "id": "7007e875",
   "metadata": {},
   "outputs": [],
   "source": [
    "target_11 = (dat_11['target'])\n",
    "print(len(target_11))\n",
    "response_11 = (dat_11['response'])\n",
    "print(len(response_11))\n",
    "plt.plot(target_11, 'b--', markersize = 10, label = 'Target')\n",
    "plt.plot(response_11, 'r:', markersize = 10, label = 'Response')\n",
    "plt.legend()\n",
    "plt.show()"
   ]
  },
  {
   "cell_type": "code",
   "execution_count": null,
   "id": "a7b02590",
   "metadata": {},
   "outputs": [],
   "source": [
    "dat_12 = alldat[1][2]\n",
    "#print(dat_11['expinfo'])\n",
    "target_12 = (dat_12['target'])\n",
    "#print(len(target_12))\n",
    "response_12 = (dat_12['response'])\n",
    "#print(len(response_12))\n",
    "plt.plot(target_12, 'b--', markersize = 10, label = 'Target')\n",
    "plt.plot(response_12, 'r:', markersize = 10, label = 'Response')\n",
    "plt.legend()\n",
    "plt.show()"
   ]
  },
  {
   "cell_type": "code",
   "execution_count": null,
   "id": "b2c81a92",
   "metadata": {},
   "outputs": [],
   "source": []
  },
  {
   "cell_type": "code",
   "execution_count": null,
   "id": "e36a99a6",
   "metadata": {},
   "outputs": [],
   "source": []
  },
  {
   "cell_type": "code",
   "execution_count": null,
   "id": "3ab37f0d",
   "metadata": {},
   "outputs": [],
   "source": []
  },
  {
   "cell_type": "code",
   "execution_count": null,
   "id": "a96ef172",
   "metadata": {},
   "outputs": [],
   "source": [
    "from nilearn import plotting\n",
    "from nimare import utils\n",
    "\n",
    "plt.figure(figsize=(8, 8))\n",
    "locs = dat['locs']\n",
    "view = plotting.view_markers(utils.tal2mni(locs),\n",
    "                             marker_labels=['%d'%k for k in np.arange(locs.shape[0])],\n",
    "                             marker_color='purple',\n",
    "                             marker_size=5)\n",
    "view"
   ]
  },
  {
   "cell_type": "code",
   "execution_count": null,
   "id": "55bc237a",
   "metadata": {},
   "outputs": [],
   "source": [
    "# compute spectral power above 50Hz and low-pass below 10Hz\n",
    "# power is always positive, so we normalize it by its average\n",
    "from scipy import signal\n",
    "\n",
    "# pick subject 1 and experiment 1\n",
    "dat = alldat[1][1]\n",
    "V = dat['V'].astype('float32') # always convert the voltage data to float32!\n",
    "\n",
    "# high-pass filter above 50 Hz\n",
    "b, a = signal.butter(3, [50], btype='high', fs=1000)\n",
    "V = signal.filtfilt(b, a, V, 0)\n",
    "\n",
    "# compute smooth envelope of this signal = approx power\n",
    "V = np.abs(V)**2\n",
    "b, a = signal.butter(3, [10], btype='low', fs=1000)\n",
    "V = signal.filtfilt(b, a, V, 0)\n",
    "\n",
    "# normalize each channel so its mean power is 1\n",
    "V = V/V.mean(0)"
   ]
  },
  {
   "cell_type": "code",
   "execution_count": null,
   "id": "48819b45",
   "metadata": {},
   "outputs": [],
   "source": [
    "# divide into trials and average\n",
    "nt, nchan = V.shape\n",
    "nstim = len(dat['t_on'])\n",
    "\n",
    "# use a timerange from 400ms before to 1600ms after the stimulus onset\n",
    "trange = np.arange(-400, 1600)\n",
    "ts = dat['t_on'][:, np.newaxis] + trange\n",
    "V_epochs = np.reshape(V[ts, :], (nstim, 2000, nchan))\n",
    "\n",
    "V_resp = (V_epochs[dat['response'] == 1]).mean(0)\n",
    "V_base = (V_epochs[dat['response'] == 0]).mean(0)"
   ]
  },
  {
   "cell_type": "code",
   "execution_count": null,
   "id": "58eff823",
   "metadata": {},
   "outputs": [],
   "source": [
    "# let's find the electrodes that distinguish responses from non-responses\n",
    "# note these are event-related potentials\n",
    "\n",
    "plt.figure(figsize=(15, 12))\n",
    "for j in range(60):\n",
    "  ax = plt.subplot(6, 10, j+1)\n",
    "  plt.plot(trange, V_resp[:, j], lw=2)\n",
    "  plt.plot(trange, V_base[:, j], lw=2)\n",
    "  plt.title('ch%d'%j)\n",
    "  plt.yticks([])\n",
    "  plt.ylim([0, 3])\n",
    "plt.show()"
   ]
  },
  {
   "cell_type": "code",
   "execution_count": null,
   "id": "aa2d938e",
   "metadata": {},
   "outputs": [],
   "source": [
    "# let's look at all the response trials for the electrode that has a significant response\n",
    "plt.subplot(1, 3, 1)\n",
    "plt.imshow(V_epochs[dat['response']==1, :, 21].astype('float32'),\n",
    "           aspect='auto')\n",
    "plt.colorbar()\n",
    "plt.show()"
   ]
  },
  {
   "cell_type": "code",
   "execution_count": null,
   "id": "bc331dcb",
   "metadata": {},
   "outputs": [],
   "source": [
    "# this electrode has a more transient response\n",
    "plt.subplot(1, 3, 1)\n",
    "plt.imshow(V_epochs[dat['response']==1, :, 27].astype('float32'),\n",
    "           aspect='auto')\n",
    "plt.colorbar()\n",
    "plt.show()"
   ]
  },
  {
   "cell_type": "code",
   "execution_count": null,
   "id": "e2ec588b",
   "metadata": {},
   "outputs": [],
   "source": [
    "for i in range(len(alldat)):\n",
    "    print('Subject ', i)\n",
    "    plt.figure(figsize=(8, 8))\n",
    "    locs = (alldat[i][1])['locs']\n",
    "    view = plotting.view_markers(utils.tal2mni(locs),\n",
    "                             marker_labels=['%d'%k for k in np.arange(locs.shape[0])],\n",
    "                             marker_color='purple',\n",
    "                             marker_size=5)\n",
    "    filename = 'subject' + str(i) + '_block1.html'\n",
    "    view.save_as_html(filename)"
   ]
  }
 ],
 "metadata": {
  "kernelspec": {
   "display_name": "Python 3",
   "language": "python",
   "name": "python3"
  },
  "language_info": {
   "codemirror_mode": {
    "name": "ipython",
    "version": 3
   },
   "file_extension": ".py",
   "mimetype": "text/x-python",
   "name": "python",
   "nbconvert_exporter": "python",
   "pygments_lexer": "ipython3",
   "version": "3.8.8"
  }
 },
 "nbformat": 4,
 "nbformat_minor": 5
}
