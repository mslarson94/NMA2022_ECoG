{
 "cells": [
  {
   "cell_type": "code",
   "execution_count": 1,
   "id": "ac51da36",
   "metadata": {},
   "outputs": [],
   "source": [
    "# @title Data retrieval\n",
    "import os, requests\n",
    "\n",
    "fname = 'memory_nback.npz'\n",
    "url = \"https://osf.io/xfc7e/download\"\n",
    "\n",
    "if not os.path.isfile(fname):\n",
    "  try:\n",
    "    r = requests.get(url)\n",
    "  except requests.ConnectionError:\n",
    "    print(\"!!! Failed to download data !!!\")\n",
    "  else:\n",
    "    if r.status_code != requests.codes.ok:\n",
    "      print(\"!!! Failed to download data !!!\")\n",
    "    else:\n",
    "      with open(fname, \"wb\") as fid:\n",
    "        fid.write(r.content)"
   ]
  },
  {
   "cell_type": "code",
   "execution_count": 2,
   "id": "4e416ebd",
   "metadata": {},
   "outputs": [],
   "source": [
    "import math\n",
    "from scipy import signal"
   ]
  },
  {
   "cell_type": "code",
   "execution_count": 3,
   "id": "f1927b31",
   "metadata": {},
   "outputs": [],
   "source": [
    "# @title Install packages (`nilearn`, `nimare`, `duecredit`), import `matplotlib` and set defaults\n",
    "# install packages to visualize brains and electrode locations\n",
    "!pip install nilearn --quiet\n",
    "!pip install nimare --quiet\n",
    "!pip install duecredit --quiet\n",
    "\n",
    "from matplotlib import rcParams\n",
    "from matplotlib import pyplot as plt\n",
    "\n",
    "rcParams['figure.figsize'] = [20, 4]\n",
    "rcParams['font.size'] = 15\n",
    "rcParams['axes.spines.top'] = False\n",
    "rcParams['axes.spines.right'] = False\n",
    "rcParams['figure.autolayout'] = True"
   ]
  },
  {
   "cell_type": "code",
   "execution_count": 4,
   "id": "99eaa1be",
   "metadata": {},
   "outputs": [
    {
     "name": "stdout",
     "output_type": "stream",
     "text": [
      "dict_keys(['V', 't_off', 'locs', 'srate', 'scale_uv', 't_on', 'target', 'stim_id', 'response', 'rt', 'expinfo', 'hemisphere', 'lobe', 'gyrus', 'Brodmann_Area'])\n"
     ]
    }
   ],
   "source": [
    "# @title Data loading\n",
    "import numpy as np\n",
    "\n",
    "alldat = np.load(fname, allow_pickle=True)['dat']\n",
    "\n",
    "# Select just one of the recordings here. This is subject 1, block 1.\n",
    "dat_11 = alldat[1][1]\n",
    "\n",
    "print(dat_11.keys())"
   ]
  },
  {
   "cell_type": "code",
   "execution_count": null,
   "id": "848c3112",
   "metadata": {},
   "outputs": [],
   "source": [
    "dat_filt = alldat[1][1]\n",
    "V_ = dat_filt['V'].astype('float32') # always convert the voltage data to float32!\n",
    "\n",
    "# bandpass filter above 50 Hz\n",
    "b, a = signal.butter(3, [4,8], btype='bandpass', fs=1000)\n",
    "V_filt = signal.filtfilt(b, a, V_[:,1], 0)"
   ]
  },
  {
   "cell_type": "code",
   "execution_count": null,
   "id": "137ae6b2",
   "metadata": {},
   "outputs": [],
   "source": []
  },
  {
   "cell_type": "code",
   "execution_count": null,
   "id": "8e27b6a4",
   "metadata": {},
   "outputs": [],
   "source": []
  }
 ],
 "metadata": {
  "kernelspec": {
   "display_name": "Python 3",
   "language": "python",
   "name": "python3"
  },
  "language_info": {
   "codemirror_mode": {
    "name": "ipython",
    "version": 3
   },
   "file_extension": ".py",
   "mimetype": "text/x-python",
   "name": "python",
   "nbconvert_exporter": "python",
   "pygments_lexer": "ipython3",
   "version": "3.8.8"
  }
 },
 "nbformat": 4,
 "nbformat_minor": 5
}
